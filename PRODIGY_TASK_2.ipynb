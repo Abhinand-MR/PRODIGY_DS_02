{
  "nbformat": 4,
  "nbformat_minor": 0,
  "metadata": {
    "colab": {
      "private_outputs": true,
      "provenance": []
    },
    "kernelspec": {
      "name": "python3",
      "display_name": "Python 3"
    },
    "language_info": {
      "name": "python"
    }
  },
  "cells": [
    {
      "cell_type": "markdown",
      "source": [
        "TASK 2"
      ],
      "metadata": {
        "id": "EFd00J0SCm-h"
      }
    },
    {
      "cell_type": "markdown",
      "source": [
        "Perform data cleaning and exploratory data analysis (EDA) on a dataset of your choice, such as the Titanic dataset from Kaggle. Explore the relationships between variables and identify patterns and trends in the data.\n"
      ],
      "metadata": {
        "id": "MjcgJFjXFfNj"
      }
    },
    {
      "cell_type": "code",
      "source": [
        "#import nessasary libraries\n",
        "import pandas as pd\n",
        "import numpy as np\n",
        "import matplotlib.pyplot as plt\n",
        "import seaborn as snn"
      ],
      "metadata": {
        "id": "-jmZkBUPFeTK"
      },
      "execution_count": null,
      "outputs": []
    },
    {
      "cell_type": "code",
      "source": [
        "#Load dataset\n",
        "titanic_data=pd.read_csv(\"/content/train.csv\")"
      ],
      "metadata": {
        "id": "w3j-hD8_ISo4"
      },
      "execution_count": null,
      "outputs": []
    },
    {
      "cell_type": "code",
      "source": [
        "titanic_data.head()"
      ],
      "metadata": {
        "id": "EIIHPSDp95nz"
      },
      "execution_count": null,
      "outputs": []
    },
    {
      "cell_type": "code",
      "source": [
        "#Data description\n",
        "titanic_data.describe()\n",
        "titanic_data.info()\n",
        "titanic_data.shape\n",
        "titanic_data.columns\n",
        "titanic_data.dtypes"
      ],
      "metadata": {
        "id": "xRME3XIy9-Nh"
      },
      "execution_count": null,
      "outputs": []
    },
    {
      "cell_type": "code",
      "source": [
        "print (\"NULL VALUES COUNT:\")\n",
        "titanic_data.isnull().sum()"
      ],
      "metadata": {
        "id": "lfsvF3wRJr7k"
      },
      "execution_count": null,
      "outputs": []
    },
    {
      "cell_type": "code",
      "source": [
        "print(f'duplicate values count : {titanic_data.duplicated().sum()}')"
      ],
      "metadata": {
        "id": "iXFgK03U-4a9"
      },
      "execution_count": null,
      "outputs": []
    },
    {
      "cell_type": "code",
      "source": [
        "# DATA CLEANING AND PREPROCESSING\n",
        "\n",
        "# Create a copy of the dataset to avoid modifying original data\n",
        "df_cleaned = titanic_data.copy()\n",
        "\n",
        "# Drop columns with high missingness (Cabin) and non-predictive features (Ticket, Name)\n",
        "columns_to_drop = ['Cabin', 'Ticket', 'Name']\n",
        "df_cleaned = df_cleaned.drop(columns=columns_to_drop)\n",
        "\n",
        "# Handle missing values - Age: median imputation (robust to outliers)\n",
        "age_median = df_cleaned['Age'].median()\n",
        "df_cleaned['Age'] = df_cleaned['Age'].fillna(age_median)\n",
        "\n",
        "# Handle missing values - Embarked: mode imputation (categorical variable)\n",
        "embarked_mode = df_cleaned['Embarked'].mode()[0]\n",
        "df_cleaned['Embarked'] = df_cleaned['Embarked'].fillna(embarked_mode)\n",
        "\n",
        "# Convert categorical features to category dtype for memory efficiency\n",
        "categorical_features = ['Sex', 'Embarked', 'Pclass']\n",
        "df_cleaned[categorical_features] = df_cleaned[categorical_features].astype('category')\n",
        "\n",
        "# Validate cleaning process\n",
        "print(\"\\nPOST-CLEANING MISSING VALUE REPORT:\")\n",
        "print(df_cleaned.isnull().sum())\n",
        "print(f\"\\nDataset shape: {df_cleaned.shape}\")\n",
        "print(f\"\\nData types after conversion:\\n{df_cleaned.dtypes}\")"
      ],
      "metadata": {
        "id": "81G5a65w92XH"
      },
      "execution_count": null,
      "outputs": []
    },
    {
      "cell_type": "code",
      "source": [
        "# EXPLORATORY DATA ANALYSIS (UNIVARIATE)\n",
        "\n",
        "# Set professional style\n",
        "sns.set_style(\"whitegrid\")\n",
        "plt.rcParams['figure.figsize'] = (10, 6)\n",
        "plt.rcParams['font.size'] = 12\n",
        "colors = [\"#3498db\", \"#e74c3c\", \"#2ecc71\"]  # Professional color palette"
      ],
      "metadata": {
        "id": "5pBD50n-NBlm"
      },
      "execution_count": null,
      "outputs": []
    },
    {
      "cell_type": "code",
      "source": [
        "# 1. Survival Distribution\n",
        "plt.figure()\n",
        "ax = sns.countplot(data=df_cleaned, x='Survived', palette=[colors[1], colors[0]])\n",
        "plt.title('Passenger Survival Distribution', fontsize=14, fontweight='bold')\n",
        "plt.xticks([0, 1], ['Perished', 'Survived'])\n",
        "plt.xlabel('Survival Status')\n",
        "plt.ylabel('Count')\n",
        "\n",
        "# Add percentage annotations\n",
        "total = len(df_cleaned)\n",
        "for p in ax.patches:\n",
        "    percentage = f'{100 * p.get_height()/total:.1f}%'\n",
        "    x = p.get_x() + p.get_width()/2\n",
        "    y = p.get_height() + 10\n",
        "    ax.annotate(f'{p.get_height()}\\n({percentage})', (x, y), ha='center')\n",
        "\n",
        "plt.tight_layout()\n",
        "plt.show()\n"
      ],
      "metadata": {
        "id": "2sZ22gahN9g6"
      },
      "execution_count": null,
      "outputs": []
    },
    {
      "cell_type": "code",
      "source": [
        "# 2. Gender Distribution\n",
        "plt.figure()\n",
        "gender_counts = df_cleaned['Sex'].value_counts()\n",
        "ax = sns.countplot(data=df_cleaned, x='Sex', palette=[colors[0], colors[2]])\n",
        "plt.title('Passenger Gender Distribution', fontsize=14, fontweight='bold')\n",
        "plt.xlabel('Gender')\n",
        "plt.ylabel('Count')\n",
        "\n",
        "# Add percentage annotations\n",
        "for i, p in enumerate(ax.patches):\n",
        "    percentage = f'{100 * p.get_height()/total:.1f}%'\n",
        "    ax.annotate(f'{gender_counts[i]}\\n({percentage})',\n",
        "                (p.get_x() + p.get_width()/2, p.get_height() + 10),\n",
        "                ha='center')\n",
        "\n",
        "plt.tight_layout()\n",
        "plt.show()\n"
      ],
      "metadata": {
        "id": "kNzNGetqOF81"
      },
      "execution_count": null,
      "outputs": []
    },
    {
      "cell_type": "code",
      "source": [
        "# 3. Age Distribution\n",
        "plt.figure()\n",
        "sns.histplot(data=df_cleaned, x='Age', bins=30, kde=True, color=colors[0])\n",
        "plt.title('Passenger Age Distribution', fontsize=14, fontweight='bold')\n",
        "plt.xlabel('Age (Years)')\n",
        "plt.ylabel('Frequency')\n",
        "\n",
        "# Add statistical markers\n",
        "median_age = df_cleaned['Age'].median()\n",
        "mean_age = df_cleaned['Age'].mean()\n",
        "plt.axvline(median_age, color='r', linestyle='--', label=f'Median: {median_age:.1f}')\n",
        "plt.axvline(mean_age, color='g', linestyle='-', label=f'Mean: {mean_age:.1f}')\n",
        "plt.legend()\n",
        "\n",
        "plt.tight_layout()\n",
        "plt.show()"
      ],
      "metadata": {
        "id": "D6NXUF6oOLAj"
      },
      "execution_count": null,
      "outputs": []
    },
    {
      "cell_type": "code",
      "source": [
        "# 4. Passenger Class Distribution\n",
        "plt.figure()\n",
        "class_counts = df_cleaned['Pclass'].value_counts().sort_index()\n",
        "ax = sns.countplot(data=df_cleaned, x='Pclass', palette=colors, order=[1, 2, 3])\n",
        "plt.title('Passenger Class Distribution', fontsize=14, fontweight='bold')\n",
        "plt.xticks([0, 1, 2], ['First Class', 'Second Class', 'Third Class'])\n",
        "plt.xlabel('Ticket Class')\n",
        "plt.ylabel('Count')\n",
        "\n",
        "# Add percentage annotations\n",
        "for i, p in enumerate(ax.patches):\n",
        "    percentage = f'{100 * p.get_height()/total:.1f}%'\n",
        "    ax.annotate(f'{class_counts[i+1]}\\n({percentage})',\n",
        "                (p.get_x() + p.get_width()/2, p.get_height() + 10),\n",
        "                ha='center')\n",
        "\n",
        "plt.tight_layout()\n",
        "plt.show()\n"
      ],
      "metadata": {
        "id": "_ndY4LNNOULA"
      },
      "execution_count": null,
      "outputs": []
    },
    {
      "cell_type": "code",
      "source": [
        "# 5. Fare Distribution\n",
        "plt.figure()\n",
        "sns.histplot(data=df_cleaned, x='Fare', bins=30, kde=True, color=colors[0])\n",
        "plt.title('Ticket Fare Distribution', fontsize=14, fontweight='bold')\n",
        "plt.xlabel('Fare (Currency Units)')\n",
        "plt.ylabel('Frequency')\n",
        "\n",
        "# Add statistical markers\n",
        "median_fare = df_cleaned['Fare'].median()\n",
        "plt.axvline(median_fare, color='r', linestyle='--', label=f'Median: {median_fare:.1f}')\n",
        "plt.xlim(0, 300)  # Limit x-axis to remove extreme outliers\n",
        "plt.legend()\n",
        "\n",
        "plt.tight_layout()\n",
        "plt.show()\n"
      ],
      "metadata": {
        "id": "MnUhL54YOb_r"
      },
      "execution_count": null,
      "outputs": []
    },
    {
      "cell_type": "code",
      "source": [
        "# 6. Embarkation Port Distribution\n",
        "plt.figure()\n",
        "port_counts = df_cleaned['Embarked'].value_counts()\n",
        "ax = sns.countplot(data=df_cleaned, x='Embarked', palette=colors,\n",
        "                  order=['C', 'Q', 'S'])\n",
        "plt.title('Embarkation Port Distribution', fontsize=14, fontweight='bold')\n",
        "plt.xticks([0, 1, 2], ['Cherbourg', 'Queenstown', 'Southampton'])\n",
        "plt.xlabel('Port of Embarkation')\n",
        "plt.ylabel('Count')\n",
        "\n",
        "# Add percentage annotations\n",
        "for i, p in enumerate(ax.patches):\n",
        "    percentage = f'{100 * p.get_height()/total:.1f}%'\n",
        "    ax.annotate(f'{port_counts.values[i]}\\n({percentage})',\n",
        "                (p.get_x() + p.get_width()/2, p.get_height() + 10),\n",
        "                ha='center')\n",
        "\n",
        "plt.tight_layout()\n",
        "plt.show()"
      ],
      "metadata": {
        "id": "U0C3ZkUVOfrk"
      },
      "execution_count": null,
      "outputs": []
    },
    {
      "cell_type": "code",
      "source": [
        "# BIVARIATE ANALYSIS - RELATIONSHIPS WITH SURVIVAL\n",
        "\n",
        "# Set up professional styling\n",
        "plt.rcParams['figure.figsize'] = (12, 8)\n",
        "sns.set_palette(\"pastel\")\n",
        "plt.style.use('seaborn-whitegrid')\n"
      ],
      "metadata": {
        "id": "Ig3LIgbNOlCY"
      },
      "execution_count": null,
      "outputs": []
    },
    {
      "cell_type": "code",
      "source": [
        "# 1. Survival by Gender - Enhanced with percentages\n",
        "plt.figure()\n",
        "ax = sns.countplot(data=df_cleaned, x='Sex', hue='Survived',\n",
        "                  hue_order=[0, 1])\n",
        "plt.title('Survival Distribution by Gender', fontsize=16, fontweight='bold')\n",
        "plt.xlabel('Gender', fontsize=12)\n",
        "plt.ylabel('Count', fontsize=12)\n",
        "plt.legend(title='Survival Status', labels=['Perished', 'Survived'])\n",
        "\n",
        "# Add percentage annotations\n",
        "for p in ax.patches:\n",
        "    height = p.get_height()\n",
        "    width = p.get_width()/2\n",
        "    x = p.get_x() + width\n",
        "    y = height + 10\n",
        "    percentage = f'{height/len(df_cleaned)*100:.1f}%'\n",
        "    ax.annotate(percentage, (x, y), ha='center', fontsize=10)\n",
        "\n",
        "plt.tight_layout()\n",
        "plt.show()\n"
      ],
      "metadata": {
        "id": "Y6vUioSLPKP-"
      },
      "execution_count": null,
      "outputs": []
    },
    {
      "cell_type": "code",
      "source": [
        "# 2. Survival by Passenger Class - Professional visualization\n",
        "plt.figure()\n",
        "ax = sns.countplot(data=df_cleaned, x='Pclass', hue='Survived',\n",
        "                  order=[1, 2, 3], hue_order=[0, 1])\n",
        "plt.title('Survival Distribution by Passenger Class', fontsize=16, fontweight='bold')\n",
        "plt.xlabel('Passenger Class', fontsize=12)\n",
        "plt.ylabel('Count', fontsize=12)\n",
        "plt.xticks([0, 1, 2], ['First Class', 'Second Class', 'Third Class'])\n",
        "plt.legend(title='Survival Status', labels=['Perished', 'Survived'])\n",
        "\n",
        "# Add percentage annotations\n",
        "for p in ax.patches:\n",
        "    height = p.get_height()\n",
        "    width = p.get_width()/2\n",
        "    x = p.get_x() + width\n",
        "    y = height + 10\n",
        "    percentage = f'{height/len(df_cleaned)*100:.1f}%'\n",
        "    ax.annotate(percentage, (x, y), ha='center', fontsize=10)\n",
        "\n",
        "plt.tight_layout()\n",
        "plt.show()"
      ],
      "metadata": {
        "id": "dCaP2d15PO1m"
      },
      "execution_count": null,
      "outputs": []
    },
    {
      "cell_type": "code",
      "source": [
        "# 3. Age vs Survival - Enhanced visualization\n",
        "plt.figure(figsize=(10, 6))\n",
        "sns.violinplot(data=df_cleaned, x='Survived', y='Age',\n",
        "              inner='quartile', split=True, palette='Set2')\n",
        "plt.title('Age Distribution by Survival Status', fontsize=16, fontweight='bold')\n",
        "plt.xlabel('Survival Status', fontsize=12)\n",
        "plt.ylabel('Age', fontsize=12)\n",
        "plt.xticks([0, 1], ['Perished', 'Survived'])\n",
        "\n",
        "# Add statistical annotation\n",
        "median_age_survived = df_cleaned[df_cleaned['Survived'] == 1]['Age'].median()\n",
        "median_age_perished = df_cleaned[df_cleaned['Survived'] == 0]['Age'].median()\n",
        "plt.text(0.5, 80, f\"Median Age (Perished): {median_age_perished:.1f}\\nMedian Age (Survived): {median_age_survived:.1f}\",\n",
        "         bbox=dict(facecolor='white', alpha=0.8))\n",
        "\n",
        "plt.tight_layout()\n",
        "plt.show()"
      ],
      "metadata": {
        "id": "XCZJPWYWPT9V"
      },
      "execution_count": null,
      "outputs": []
    },
    {
      "cell_type": "code",
      "source": [
        "# 4. Survival by Embarkation Port\n",
        "plt.figure()\n",
        "sns.countplot(data=df_cleaned, x='Embarked', hue='Survived',\n",
        "             order=['C', 'Q', 'S'], hue_order=[0, 1])\n",
        "plt.title('Survival Distribution by Embarkation Port', fontsize=16, fontweight='bold')\n",
        "plt.xlabel('Port of Embarkation', fontsize=12)\n",
        "plt.ylabel('Count', fontsize=12)\n",
        "plt.xticks([0, 1, 2], ['Cherbourg', 'Queenstown', 'Southampton'])\n",
        "plt.legend(title='Survival Status', labels=['Perished', 'Survived'])\n",
        "plt.tight_layout()\n",
        "plt.show()"
      ],
      "metadata": {
        "id": "HCIHw__1PT55"
      },
      "execution_count": null,
      "outputs": []
    },
    {
      "cell_type": "code",
      "source": [
        "# 5. CORRELATION ANALYSIS - ENHANCED\n",
        "\n",
        "# Create correlation matrix\n",
        "corr_matrix = df_cleaned.corr(numeric_only=True)\n",
        "\n",
        "# Mask for upper triangle\n",
        "mask = np.triu(np.ones_like(corr_matrix, dtype=bool))\n",
        "\n",
        "plt.figure(figsize=(10, 8))\n",
        "sns.heatmap(corr_matrix, mask=mask, annot=True, cmap='coolwarm',\n",
        "            fmt=\".2f\", linewidths=0.5, vmin=-1, vmax=1,\n",
        "            annot_kws={\"size\": 12})\n",
        "plt.title('Feature Correlation Matrix', fontsize=16, fontweight='bold')\n",
        "plt.xticks(fontsize=10, rotation=45)\n",
        "plt.yticks(fontsize=10, rotation=0)\n",
        "plt.tight_layout()\n",
        "plt.show()\n"
      ],
      "metadata": {
        "id": "o2mmcSs1PT3m"
      },
      "execution_count": null,
      "outputs": []
    },
    {
      "cell_type": "code",
      "source": [
        "# 6. GROUP ANALYSIS - SURVIVAL RATES\n",
        "\n",
        "#  Survival Rate by Gender and Class\n",
        "plt.figure(figsize=(10, 6))\n",
        "survival_rates = df_cleaned.groupby(['Sex', 'Pclass'])['Survived'].mean().reset_index()\n",
        "sns.barplot(data=survival_rates, x='Sex', y='Survived', hue='Pclass',\n",
        "            palette='viridis', hue_order=[1, 2, 3])\n",
        "plt.title('Survival Rate by Gender and Passenger Class', fontsize=16, fontweight='bold')\n",
        "plt.xlabel('Gender', fontsize=12)\n",
        "plt.ylabel('Survival Rate', fontsize=12)\n",
        "plt.ylim(0, 1)\n",
        "plt.legend(title='Passenger Class', labels=['First', 'Second', 'Third'])\n",
        "plt.tight_layout()\n",
        "plt.show()\n",
        "\n"
      ],
      "metadata": {
        "id": "c4meETogPl0c"
      },
      "execution_count": null,
      "outputs": []
    },
    {
      "cell_type": "code",
      "source": [],
      "metadata": {
        "id": "Dx62qMZyPrQT"
      },
      "execution_count": null,
      "outputs": []
    },
    {
      "cell_type": "markdown",
      "source": [
        "**✅ Conclusion from Titanic Dataset EDA**\n",
        "\n",
        "\n",
        "\n",
        "After cleaning and exploring the Titanic dataset, several meaningful insights were discovered that highlight patterns in passenger survival:\n",
        "\n",
        "🚹 Gender Impact:\n",
        "Females had a significantly higher survival rate than males.\n",
        "\n",
        "Survival rate among women was especially high in first and second class.\n",
        "\n",
        "🛳️ Passenger Class (Pclass):\n",
        "1st class passengers had the highest survival rates, followed by 2nd, then 3rd.\n",
        "\n",
        "3rd class passengers were least likely to survive, regardless of gender.\n",
        "\n",
        "🧒 Age Factor:\n",
        "Age distribution showed that children under 10 had slightly better survival chances.\n",
        "\n",
        "However, there wasn't a strict linear relationship between age and survival.\n",
        "\n",
        "📊 Correlations:\n",
        "Sex and Pclass were the strongest predictors of survival.\n",
        "\n",
        "Other features like age and number of siblings/spouses aboard had moderate influence.\n",
        "\n",
        "🌍 Embarked Port:\n",
        "Most passengers embarked from Southampton, and survival rates slightly varied by port.\n",
        "\n",
        "Passengers from Cherbourg (C) had better survival odds (likely due to class/gender mix).\n",
        "\n",
        "📌 Final Insights:\n",
        "Women and children in higher classes were prioritized during evacuation.\n",
        "\n",
        "Being male and in 3rd class significantly reduced survival chances.\n",
        "\n",
        "Strong patterns exist between demographic features (Sex, Age, Class) and survival outcome, which can guide predictive modeling.\n"
      ],
      "metadata": {
        "id": "Mv2SCyRnQexU"
      }
    }
  ]
}